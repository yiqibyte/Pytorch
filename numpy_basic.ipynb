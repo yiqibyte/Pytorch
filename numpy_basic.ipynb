{
 "cells": [
  {
   "cell_type": "code",
   "execution_count": 2,
   "metadata": {},
   "outputs": [],
   "source": [
    "import numpy as np"
   ]
  },
  {
   "cell_type": "code",
   "execution_count": null,
   "metadata": {},
   "outputs": [
    {
     "data": {
      "text/plain": [
       "'2.1.2'"
      ]
     },
     "execution_count": 3,
     "metadata": {},
     "output_type": "execute_result"
    }
   ],
   "source": [
    "# 查看 numpy 版本\n",
    "np.__version__"
   ]
  },
  {
   "cell_type": "code",
   "execution_count": 13,
   "metadata": {},
   "outputs": [
    {
     "data": {
      "text/plain": [
       "array([[0.15829587, 0.95648965, 0.09788744],\n",
       "       [0.13440707, 0.34285846, 0.31140386]])"
      ]
     },
     "execution_count": 13,
     "metadata": {},
     "output_type": "execute_result"
    }
   ],
   "source": [
    "np.random.random((2, 3))"
   ]
  },
  {
   "cell_type": "code",
   "execution_count": 15,
   "metadata": {},
   "outputs": [
    {
     "data": {
      "text/plain": [
       "array([ 0.13083734, -0.86120244, -1.27071877])"
      ]
     },
     "execution_count": 15,
     "metadata": {},
     "output_type": "execute_result"
    }
   ],
   "source": [
    "np.random.randn(3)"
   ]
  },
  {
   "cell_type": "code",
   "execution_count": 17,
   "metadata": {},
   "outputs": [
    {
     "data": {
      "text/plain": [
       "array([[1.98471926, 1.14734148, 1.59886871],\n",
       "       [1.98037934, 1.76787995, 1.56733011]])"
      ]
     },
     "execution_count": 17,
     "metadata": {},
     "output_type": "execute_result"
    }
   ],
   "source": [
    "np.random.uniform(1, 2, (2, 3))"
   ]
  },
  {
   "cell_type": "code",
   "execution_count": 53,
   "metadata": {},
   "outputs": [
    {
     "data": {
      "text/plain": [
       "array([[2, 7, 6],\n",
       "       [2, 8, 3]])"
      ]
     },
     "execution_count": 53,
     "metadata": {},
     "output_type": "execute_result"
    }
   ],
   "source": [
    "np.random.randint(2, 10, (2, 3))"
   ]
  },
  {
   "cell_type": "code",
   "execution_count": 54,
   "metadata": {},
   "outputs": [
    {
     "data": {
      "text/plain": [
       "array([[-0.37069582,  1.41071895, -0.44526405],\n",
       "       [ 1.45266887, -0.16308713,  1.86545475]])"
      ]
     },
     "execution_count": 54,
     "metadata": {},
     "output_type": "execute_result"
    }
   ],
   "source": [
    "np.random.normal(0, 1, (2, 3))"
   ]
  },
  {
   "cell_type": "code",
   "execution_count": 70,
   "metadata": {},
   "outputs": [
    {
     "data": {
      "text/plain": [
       "array([2.22222222, 1.11111111, 5.55555556, 3.33333333, 8.88888889,\n",
       "       7.77777778, 4.44444444, 0.        , 6.66666667])"
      ]
     },
     "execution_count": 70,
     "metadata": {},
     "output_type": "execute_result"
    }
   ],
   "source": [
    "ls = np.linspace(0, 10, 9, endpoint=False)\n",
    "np.random.shuffle(ls)\n",
    "ls"
   ]
  },
  {
   "cell_type": "code",
   "execution_count": null,
   "metadata": {},
   "outputs": [],
   "source": [
    "# np,random.seed(0)"
   ]
  },
  {
   "cell_type": "code",
   "execution_count": 82,
   "metadata": {},
   "outputs": [
    {
     "data": {
      "text/plain": [
       "array([[0.31210889, 0.31643688, 0.78973821],\n",
       "       [0.26805154, 0.21158116, 0.01055491]])"
      ]
     },
     "execution_count": 82,
     "metadata": {},
     "output_type": "execute_result"
    }
   ],
   "source": [
    "np.random.sample((2, 3))"
   ]
  },
  {
   "cell_type": "code",
   "execution_count": 83,
   "metadata": {},
   "outputs": [
    {
     "data": {
      "text/plain": [
       "array([[7, 7, 7],\n",
       "       [7, 7, 7]])"
      ]
     },
     "execution_count": 83,
     "metadata": {},
     "output_type": "execute_result"
    }
   ],
   "source": [
    "np.full((2, 3), 7)"
   ]
  },
  {
   "cell_type": "code",
   "execution_count": 95,
   "metadata": {},
   "outputs": [
    {
     "data": {
      "text/plain": [
       "array([[0.31210889, 0.31643688, 0.78973821],\n",
       "       [0.26805154, 0.21158116, 0.01055491]])"
      ]
     },
     "execution_count": 95,
     "metadata": {},
     "output_type": "execute_result"
    }
   ],
   "source": [
    "arr = np.empty((2, 3))\n",
    "arr"
   ]
  },
  {
   "cell_type": "code",
   "execution_count": 96,
   "metadata": {},
   "outputs": [
    {
     "data": {
      "text/plain": [
       "array([[0.31210889, 0.31643688, 0.78973821],\n",
       "       [0.26805154, 0.21158116, 0.01055491]])"
      ]
     },
     "execution_count": 96,
     "metadata": {},
     "output_type": "execute_result"
    }
   ],
   "source": [
    "np.savetxt(r'./arr.txt', arr)\n",
    "np.loadtxt(r'./arr.txt')\n"
   ]
  },
  {
   "cell_type": "code",
   "execution_count": 98,
   "metadata": {},
   "outputs": [
    {
     "data": {
      "text/plain": [
       "array([[-0.2946857 ,  0.23273033,  0.71291191, -0.38211035],\n",
       "       [ 0.18354318,  0.82694047,  1.43101114, -2.01836289],\n",
       "       [-0.70703291,  0.12522285, -0.0056278 , -1.17837462],\n",
       "       [ 0.35513297, -0.95000751, -0.79158512,  0.17247285]])"
      ]
     },
     "execution_count": 98,
     "metadata": {},
     "output_type": "execute_result"
    }
   ],
   "source": [
    "arr = np.random.normal(0, 1, (4, 4))\n",
    "arr"
   ]
  },
  {
   "cell_type": "code",
   "execution_count": 99,
   "metadata": {},
   "outputs": [
    {
     "data": {
      "text/plain": [
       "array([-0.2946857 ,  0.23273033,  0.71291191, -0.38211035])"
      ]
     },
     "execution_count": 99,
     "metadata": {},
     "output_type": "execute_result"
    }
   ],
   "source": [
    "arr[0]"
   ]
  },
  {
   "cell_type": "code",
   "execution_count": 100,
   "metadata": {},
   "outputs": [],
   "source": [
    "# np.multiply()\n",
    "# np.dot()"
   ]
  },
  {
   "cell_type": "code",
   "execution_count": 101,
   "metadata": {},
   "outputs": [
    {
     "data": {
      "text/plain": [
       "array([[-0.2946857 ,  0.23273033,  0.71291191, -0.38211035],\n",
       "       [ 0.18354318,  0.82694047,  1.43101114, -2.01836289],\n",
       "       [-0.70703291,  0.12522285, -0.0056278 , -1.17837462],\n",
       "       [ 0.35513297, -0.95000751, -0.79158512,  0.17247285]])"
      ]
     },
     "execution_count": 101,
     "metadata": {},
     "output_type": "execute_result"
    }
   ],
   "source": [
    "arr"
   ]
  },
  {
   "cell_type": "markdown",
   "metadata": {},
   "source": [
    "### NumPy 数组变换方法对比表\n",
    "\n",
    "| 方法名        | 是否修改原数组 | 返回对象类型    | 是否共享内存 | 说明 |\n",
    "|---------------|----------------|------------------|----------------|------|\n",
    "| `reshape()`   | 否             | 视图 / 副本      | 是（通常共享） | 内存连续时返回视图，否则返回副本 |\n",
    "| `resize()`    | 是             | 无（原地修改）   | 无             | 原地修改 shape，可能填充或截断 |\n",
    "| `ravel()`     | 否             | 视图 / 副本      | 是（通常共享） | 优先返回视图，内存不连续时为副本 |\n",
    "| `flatten()`   | 否             | 副本             | 否             | 始终返回复制的新数组 |\n",
    "| `view()`      | 否             | 视图 / 副本      | 是（通常共享） | dtype 改变通常共享内存，存储不连续可能复制 |\n",
    "| `squeeze()`   | 否             | 视图             | 是             | 删除 shape 中为 1 的维度，不复制内存 |"
   ]
  },
  {
   "cell_type": "code",
   "execution_count": 103,
   "metadata": {},
   "outputs": [
    {
     "data": {
      "text/plain": [
       "array([[-0.2946857 ,  0.23273033,  0.71291191, -0.38211035,  0.18354318,\n",
       "         0.82694047,  1.43101114, -2.01836289],\n",
       "       [-0.70703291,  0.12522285, -0.0056278 , -1.17837462,  0.35513297,\n",
       "        -0.95000751, -0.79158512,  0.17247285]])"
      ]
     },
     "execution_count": 103,
     "metadata": {},
     "output_type": "execute_result"
    }
   ],
   "source": [
    "arr1 = arr.reshape((2, 8))\n",
    "arr1"
   ]
  },
  {
   "cell_type": "code",
   "execution_count": 105,
   "metadata": {},
   "outputs": [
    {
     "data": {
      "text/plain": [
       "array([[ 6.66000000e+02,  2.32730333e-01,  7.12911913e-01,\n",
       "        -3.82110345e-01,  1.83543178e-01,  8.26940465e-01,\n",
       "         1.43101114e+00, -2.01836289e+00],\n",
       "       [-7.07032910e-01,  1.25222851e-01, -5.62780223e-03,\n",
       "        -1.17837462e+00,  3.55132970e-01, -9.50007512e-01,\n",
       "        -7.91585123e-01,  1.72472854e-01]])"
      ]
     },
     "execution_count": 105,
     "metadata": {},
     "output_type": "execute_result"
    }
   ],
   "source": [
    "arr1[0, 0] = 666\n",
    "arr1"
   ]
  },
  {
   "cell_type": "code",
   "execution_count": 106,
   "metadata": {},
   "outputs": [
    {
     "data": {
      "text/plain": [
       "array([[ 6.66000000e+02,  2.32730333e-01,  7.12911913e-01,\n",
       "        -3.82110345e-01],\n",
       "       [ 1.83543178e-01,  8.26940465e-01,  1.43101114e+00,\n",
       "        -2.01836289e+00],\n",
       "       [-7.07032910e-01,  1.25222851e-01, -5.62780223e-03,\n",
       "        -1.17837462e+00],\n",
       "       [ 3.55132970e-01, -9.50007512e-01, -7.91585123e-01,\n",
       "         1.72472854e-01]])"
      ]
     },
     "execution_count": 106,
     "metadata": {},
     "output_type": "execute_result"
    }
   ],
   "source": [
    "arr"
   ]
  },
  {
   "cell_type": "code",
   "execution_count": 109,
   "metadata": {},
   "outputs": [
    {
     "data": {
      "text/plain": [
       "array([[ 6.66000000e+02,  2.32730333e-01,  7.12911913e-01,\n",
       "        -3.82110345e-01],\n",
       "       [ 1.83543178e-01,  8.26940465e-01,  1.43101114e+00,\n",
       "        -2.01836289e+00],\n",
       "       [-7.07032910e-01,  1.25222851e-01, -5.62780223e-03,\n",
       "        -1.17837462e+00],\n",
       "       [ 3.55132970e-01, -9.50007512e-01, -7.91585123e-01,\n",
       "         1.72472854e-01]])"
      ]
     },
     "execution_count": 109,
     "metadata": {},
     "output_type": "execute_result"
    }
   ],
   "source": [
    "arr.resize((4, 4))\n",
    "arr"
   ]
  },
  {
   "cell_type": "code",
   "execution_count": 112,
   "metadata": {},
   "outputs": [
    {
     "data": {
      "text/plain": [
       "array([ 6.66000000e+02,  2.32730333e-01,  7.12911913e-01, -3.82110345e-01,\n",
       "        1.83543178e-01,  8.26940465e-01,  1.43101114e+00, -2.01836289e+00,\n",
       "       -7.07032910e-01,  1.25222851e-01, -5.62780223e-03, -1.17837462e+00,\n",
       "        3.55132970e-01, -9.50007512e-01, -7.91585123e-01,  1.72472854e-01])"
      ]
     },
     "execution_count": 112,
     "metadata": {},
     "output_type": "execute_result"
    }
   ],
   "source": [
    "arr2 = arr.ravel()\n",
    "arr2"
   ]
  },
  {
   "cell_type": "code",
   "execution_count": 114,
   "metadata": {},
   "outputs": [
    {
     "data": {
      "text/plain": [
       "array([ 0.        ,  0.23273033,  0.71291191, -0.38211035,  0.18354318,\n",
       "        0.82694047,  1.43101114, -2.01836289, -0.70703291,  0.12522285,\n",
       "       -0.0056278 , -1.17837462,  0.35513297, -0.95000751, -0.79158512,\n",
       "        0.17247285])"
      ]
     },
     "execution_count": 114,
     "metadata": {},
     "output_type": "execute_result"
    }
   ],
   "source": [
    "arr2[0] = 0\n",
    "arr2"
   ]
  },
  {
   "cell_type": "code",
   "execution_count": 115,
   "metadata": {},
   "outputs": [
    {
     "data": {
      "text/plain": [
       "array([[ 0.        ,  0.23273033,  0.71291191, -0.38211035],\n",
       "       [ 0.18354318,  0.82694047,  1.43101114, -2.01836289],\n",
       "       [-0.70703291,  0.12522285, -0.0056278 , -1.17837462],\n",
       "       [ 0.35513297, -0.95000751, -0.79158512,  0.17247285]])"
      ]
     },
     "execution_count": 115,
     "metadata": {},
     "output_type": "execute_result"
    }
   ],
   "source": [
    "arr"
   ]
  },
  {
   "cell_type": "code",
   "execution_count": 117,
   "metadata": {},
   "outputs": [
    {
     "data": {
      "text/plain": [
       "array([ 0.        ,  0.23273033,  0.71291191, -0.38211035,  0.18354318,\n",
       "        0.82694047,  1.43101114, -2.01836289, -0.70703291,  0.12522285,\n",
       "       -0.0056278 , -1.17837462,  0.35513297, -0.95000751, -0.79158512,\n",
       "        0.17247285])"
      ]
     },
     "execution_count": 117,
     "metadata": {},
     "output_type": "execute_result"
    }
   ],
   "source": [
    "arr3 = arr.flatten()\n",
    "arr3"
   ]
  },
  {
   "cell_type": "code",
   "execution_count": 118,
   "metadata": {},
   "outputs": [
    {
     "data": {
      "text/plain": [
       "array([ 6.66000000e+02,  2.32730333e-01,  7.12911913e-01, -3.82110345e-01,\n",
       "        1.83543178e-01,  8.26940465e-01,  1.43101114e+00, -2.01836289e+00,\n",
       "       -7.07032910e-01,  1.25222851e-01, -5.62780223e-03, -1.17837462e+00,\n",
       "        3.55132970e-01, -9.50007512e-01, -7.91585123e-01,  1.72472854e-01])"
      ]
     },
     "execution_count": 118,
     "metadata": {},
     "output_type": "execute_result"
    }
   ],
   "source": [
    "arr3[0] = 666\n",
    "arr3"
   ]
  },
  {
   "cell_type": "code",
   "execution_count": 119,
   "metadata": {},
   "outputs": [
    {
     "data": {
      "text/plain": [
       "array([[ 0.        ,  0.23273033,  0.71291191, -0.38211035],\n",
       "       [ 0.18354318,  0.82694047,  1.43101114, -2.01836289],\n",
       "       [-0.70703291,  0.12522285, -0.0056278 , -1.17837462],\n",
       "       [ 0.35513297, -0.95000751, -0.79158512,  0.17247285]])"
      ]
     },
     "execution_count": 119,
     "metadata": {},
     "output_type": "execute_result"
    }
   ],
   "source": [
    "arr"
   ]
  },
  {
   "cell_type": "code",
   "execution_count": 123,
   "metadata": {},
   "outputs": [
    {
     "data": {
      "text/plain": [
       "array([[[[-0.48244776,  0.56522688,  0.86384689, -1.79265885],\n",
       "         [-0.30037567,  1.68221478, -1.03425226,  0.50836513],\n",
       "         [-0.30657287,  1.36081112,  1.27714209,  0.62477869]],\n",
       "\n",
       "        [[ 0.16039185, -0.12065055,  0.91102377,  0.24654577],\n",
       "         [ 0.22583173, -0.24375181, -0.83935286,  0.90177844],\n",
       "         [ 0.65718154,  1.32161922,  0.60604675, -2.30795525]]]])"
      ]
     },
     "execution_count": 123,
     "metadata": {},
     "output_type": "execute_result"
    }
   ],
   "source": [
    "arr = np.random.normal(0, 1, (1, 2, 3, 4))\n",
    "arr"
   ]
  },
  {
   "cell_type": "code",
   "execution_count": 127,
   "metadata": {},
   "outputs": [
    {
     "data": {
      "text/plain": [
       "array([[[-0.48244776,  0.56522688,  0.86384689, -1.79265885],\n",
       "        [-0.30037567,  1.68221478, -1.03425226,  0.50836513],\n",
       "        [-0.30657287,  1.36081112,  1.27714209,  0.62477869]],\n",
       "\n",
       "       [[ 0.16039185, -0.12065055,  0.91102377,  0.24654577],\n",
       "        [ 0.22583173, -0.24375181, -0.83935286,  0.90177844],\n",
       "        [ 0.65718154,  1.32161922,  0.60604675, -2.30795525]]])"
      ]
     },
     "execution_count": 127,
     "metadata": {},
     "output_type": "execute_result"
    }
   ],
   "source": [
    "arr4 = arr.squeeze()\n",
    "arr4"
   ]
  },
  {
   "cell_type": "code",
   "execution_count": 128,
   "metadata": {},
   "outputs": [
    {
     "data": {
      "text/plain": [
       "array([[[ 0.        ,  0.56522688,  0.86384689, -1.79265885],\n",
       "        [-0.30037567,  1.68221478, -1.03425226,  0.50836513],\n",
       "        [-0.30657287,  1.36081112,  1.27714209,  0.62477869]],\n",
       "\n",
       "       [[ 0.16039185, -0.12065055,  0.91102377,  0.24654577],\n",
       "        [ 0.22583173, -0.24375181, -0.83935286,  0.90177844],\n",
       "        [ 0.65718154,  1.32161922,  0.60604675, -2.30795525]]])"
      ]
     },
     "execution_count": 128,
     "metadata": {},
     "output_type": "execute_result"
    }
   ],
   "source": [
    "arr4[0, 0, 0] = 0\n",
    "arr4"
   ]
  },
  {
   "cell_type": "code",
   "execution_count": 129,
   "metadata": {},
   "outputs": [
    {
     "data": {
      "text/plain": [
       "array([[[[ 0.        ,  0.56522688,  0.86384689, -1.79265885],\n",
       "         [-0.30037567,  1.68221478, -1.03425226,  0.50836513],\n",
       "         [-0.30657287,  1.36081112,  1.27714209,  0.62477869]],\n",
       "\n",
       "        [[ 0.16039185, -0.12065055,  0.91102377,  0.24654577],\n",
       "         [ 0.22583173, -0.24375181, -0.83935286,  0.90177844],\n",
       "         [ 0.65718154,  1.32161922,  0.60604675, -2.30795525]]]])"
      ]
     },
     "execution_count": 129,
     "metadata": {},
     "output_type": "execute_result"
    }
   ],
   "source": [
    "arr"
   ]
  },
  {
   "cell_type": "code",
   "execution_count": 154,
   "metadata": {},
   "outputs": [
    {
     "name": "stdout",
     "output_type": "stream",
     "text": [
      "arr1:\n",
      " [[-0.6938329   1.13702887 -0.51227789 -0.29250922]\n",
      " [ 0.53400645  0.00572883 -1.19870032  0.33189743]\n",
      " [-1.48369378  1.42542308  0.36741714  0.04006252]]\n",
      "arr2:\n",
      " [[ 0.90036064]\n",
      " [-0.26514976]\n",
      " [-0.0203457 ]]\n",
      "arr3:\n",
      " [ 2.44078981 -1.81026863 -1.43550648]\n",
      "arr1 append arr2 (axis=1):\n",
      " [[-0.6938329   1.13702887 -0.51227789 -0.29250922  0.90036064]\n",
      " [ 0.53400645  0.00572883 -1.19870032  0.33189743 -0.26514976]\n",
      " [-1.48369378  1.42542308  0.36741714  0.04006252 -0.0203457 ]]\n",
      "Error appending arr3: all the input arrays must have same number of dimensions, but the array at index 0 has 2 dimension(s) and the array at index 1 has 1 dimension(s)\n"
     ]
    }
   ],
   "source": [
    "# 生成一个 3 行 4 列的二维正态分布数组\n",
    "arr1 = np.random.normal(0, 1, (3, 4))\n",
    "print(\"arr1:\\n\", arr1)\n",
    "\n",
    "# 生成一个 3 行 1 列的二维数组，便于列方向拼接\n",
    "arr2 = np.random.normal(0, 1, (3, 1))\n",
    "print(\"arr2:\\n\", arr2)\n",
    "\n",
    "# 生成一个形状为 (3,) 的一维数组，注意：它不是二维！\n",
    "arr3 = np.random.normal(0, 1, (3,))\n",
    "print(\"arr3:\\n\", arr3)\n",
    "\n",
    "# 尝试将 arr2 以列的方式（axis=1）拼接到 arr1\n",
    "try:\n",
    "    # arr2 是形状 (3, 1)，与 arr1 的行数匹配，因此可以在 axis=1 方向拼接成功\n",
    "    result1 = np.append(arr1, arr2, axis=1)\n",
    "    print(\"arr1 append arr2 (axis=1):\\n\", result1)\n",
    "except Exception as e:\n",
    "    # 如果形状不匹配，这里会报错\n",
    "    print(\"Error appending arr2:\", e)\n",
    "\n",
    "# 尝试将一维数组 arr3 以列的方式拼接到二维数组 arr1\n",
    "try:\n",
    "    # arr3 是一维的，形状为 (3,)，不能与二维的 arr1 沿 axis=1 直接拼接，会报错\n",
    "    result2 = np.append(arr1, arr3, axis=1)\n",
    "    print(\"arr1 append arr3 (axis=1):\\n\", result2)\n",
    "except Exception as e:\n",
    "    print(\"Error appending arr3:\", e)"
   ]
  },
  {
   "cell_type": "code",
   "execution_count": 155,
   "metadata": {},
   "outputs": [
    {
     "name": "stdout",
     "output_type": "stream",
     "text": [
      "arr1:\n",
      " [[ 0.9571844   1.67950209 -0.53400639 -1.08540915]\n",
      " [-0.61603417 -1.29591112  0.11872013 -0.7609852 ]\n",
      " [ 0.99547945  0.57250727 -0.87033468 -0.86973735]]\n",
      "arr2:\n",
      " [[ 0.0565884 ]\n",
      " [-0.24255351]\n",
      " [-1.22321533]]\n",
      "arr3:\n",
      " [ 1.74102559  0.20300003 -1.81903891]\n",
      "arr1 concatenate arr2 (axis=1):\n",
      " [[ 0.9571844   1.67950209 -0.53400639 -1.08540915  0.0565884 ]\n",
      " [-0.61603417 -1.29591112  0.11872013 -0.7609852  -0.24255351]\n",
      " [ 0.99547945  0.57250727 -0.87033468 -0.86973735 -1.22321533]]\n",
      "Error concatenating arr3: all the input arrays must have same number of dimensions, but the array at index 0 has 2 dimension(s) and the array at index 1 has 1 dimension(s)\n"
     ]
    }
   ],
   "source": [
    "# 生成一个 3x4 的二维数组\n",
    "arr1 = np.random.normal(0, 1, (3, 4))\n",
    "print(\"arr1:\\n\", arr1)\n",
    "\n",
    "# 生成一个 3x1 的二维数组\n",
    "arr2 = np.random.normal(0, 1, (3, 1))\n",
    "print(\"arr2:\\n\", arr2)\n",
    "\n",
    "# 生成一个形状为 (3,) 的一维数组\n",
    "arr3 = np.random.normal(0, 1, (3,))\n",
    "print(\"arr3:\\n\", arr3)\n",
    "\n",
    "# 使用 concatenate 拼接 arr1 和 arr2（两个都是二维，且在 axis=1 上维度对齐）\n",
    "try:\n",
    "    result1 = np.concatenate([arr1, arr2], axis=1)\n",
    "    print(\"arr1 concatenate arr2 (axis=1):\\n\", result1)\n",
    "except Exception as e:\n",
    "    print(\"Error concatenating arr2:\", e)\n",
    "\n",
    "# 直接拼接 arr3 会报错，因为它是一维数组，无法与二维数组在 axis=1 拼接\n",
    "try:\n",
    "    result2 = np.concatenate([arr1, arr3], axis=1)\n",
    "    print(\"arr1 concatenate arr3 (axis=1):\\n\", result2)\n",
    "except Exception as e:\n",
    "    print(\"Error concatenating arr3:\", e)"
   ]
  },
  {
   "cell_type": "code",
   "execution_count": 157,
   "metadata": {},
   "outputs": [
    {
     "data": {
      "text/plain": [
       "(array([[ 0.9571844 ,  1.67950209, -0.53400639, -1.08540915],\n",
       "        [-0.61603417, -1.29591112,  0.11872013, -0.7609852 ],\n",
       "        [ 0.99547945,  0.57250727, -0.87033468, -0.86973735]]),\n",
       " array([[ 0.0565884 ],\n",
       "        [-0.24255351],\n",
       "        [-1.22321533]]))"
      ]
     },
     "execution_count": 157,
     "metadata": {},
     "output_type": "execute_result"
    }
   ],
   "source": [
    "arr1, arr2"
   ]
  },
  {
   "cell_type": "code",
   "execution_count": 163,
   "metadata": {},
   "outputs": [
    {
     "name": "stdout",
     "output_type": "stream",
     "text": [
      "arr1:\n",
      " [[ 0.40058509  0.13635073 -1.07130739  0.81579062]\n",
      " [-0.38695982 -0.83141009  2.47806454  2.59944576]\n",
      " [-0.04580125 -2.50626285  0.19539998  1.83521169]]\n",
      "np.stack([arr1, arr1]):\n",
      " [[[ 0.40058509  0.40058509]\n",
      "  [ 0.13635073  0.13635073]\n",
      "  [-1.07130739 -1.07130739]\n",
      "  [ 0.81579062  0.81579062]]\n",
      "\n",
      " [[-0.38695982 -0.38695982]\n",
      "  [-0.83141009 -0.83141009]\n",
      "  [ 2.47806454  2.47806454]\n",
      "  [ 2.59944576  2.59944576]]\n",
      "\n",
      " [[-0.04580125 -0.04580125]\n",
      "  [-2.50626285 -2.50626285]\n",
      "  [ 0.19539998  0.19539998]\n",
      "  [ 1.83521169  1.83521169]]]\n",
      "stacked.shape: (3, 4, 2)\n"
     ]
    }
   ],
   "source": [
    "# 创建一个 3 行 4 列的数组\n",
    "arr1 = np.random.normal(0, 1, (3, 4))\n",
    "print(\"arr1:\\n\", arr1)\n",
    "\n",
    "# 使用 np.stack 在新轴上堆叠两个 arr1\n",
    "stacked = np.stack([arr1, arr1], axis=2)\n",
    "print(\"np.stack([arr1, arr1]):\\n\", stacked)\n",
    "print(\"stacked.shape:\", stacked.shape)"
   ]
  },
  {
   "cell_type": "code",
   "execution_count": 165,
   "metadata": {},
   "outputs": [
    {
     "name": "stdout",
     "output_type": "stream",
     "text": [
      "arr1:\n",
      " [[7 3 6 0]\n",
      " [3 5 4 6]\n",
      " [3 1 3 2]]\n",
      "arr2:\n",
      " [[5 2 2 1]\n",
      " [5 0 8 8]\n",
      " [7 2 1 7]]\n",
      "np.hstack:\n",
      " [[7 3 6 0 5 2 2 1]\n",
      " [3 5 4 6 5 0 8 8]\n",
      " [3 1 3 2 7 2 1 7]]\n",
      "shape: (3, 8)\n"
     ]
    }
   ],
   "source": [
    "# 创建两个形状相同的二维数组 (3, 4)\n",
    "arr1 = np.random.randint(0, 10, (3, 4))\n",
    "arr2 = np.random.randint(0, 10, (3, 4))\n",
    "\n",
    "print(\"arr1:\\n\", arr1)\n",
    "print(\"arr2:\\n\", arr2)# 横向拼接（按列拼接），结果 shape = (3, 8)\n",
    "h = np.hstack([arr1, arr2])\n",
    "print(\"np.hstack:\\n\", h)\n",
    "print(\"shape:\", h.shape)"
   ]
  },
  {
   "cell_type": "code",
   "execution_count": 166,
   "metadata": {},
   "outputs": [
    {
     "name": "stdout",
     "output_type": "stream",
     "text": [
      "np.vstack:\n",
      " [[7 3 6 0]\n",
      " [3 5 4 6]\n",
      " [3 1 3 2]\n",
      " [5 2 2 1]\n",
      " [5 0 8 8]\n",
      " [7 2 1 7]]\n",
      "shape: (6, 4)\n"
     ]
    }
   ],
   "source": [
    "# 纵向拼接（按行拼接），结果 shape = (6, 4)\n",
    "v = np.vstack([arr1, arr2])\n",
    "print(\"np.vstack:\\n\", v)\n",
    "print(\"shape:\", v.shape)"
   ]
  },
  {
   "cell_type": "code",
   "execution_count": 167,
   "metadata": {},
   "outputs": [
    {
     "name": "stdout",
     "output_type": "stream",
     "text": [
      "np.dstack:\n",
      " [[[7 5]\n",
      "  [3 2]\n",
      "  [6 2]\n",
      "  [0 1]]\n",
      "\n",
      " [[3 5]\n",
      "  [5 0]\n",
      "  [4 8]\n",
      "  [6 8]]\n",
      "\n",
      " [[3 7]\n",
      "  [1 2]\n",
      "  [3 1]\n",
      "  [2 7]]]\n",
      "shape: (3, 4, 2)\n"
     ]
    }
   ],
   "source": [
    "# 深度方向堆叠，增加一个第三维，结果 shape = (3, 4, 2)\n",
    "d = np.dstack([arr1, arr2])\n",
    "print(\"np.dstack:\\n\", d)\n",
    "print(\"shape:\", d.shape)"
   ]
  }
 ],
 "metadata": {
  "language_info": {
   "name": "python"
  }
 },
 "nbformat": 4,
 "nbformat_minor": 2
}
